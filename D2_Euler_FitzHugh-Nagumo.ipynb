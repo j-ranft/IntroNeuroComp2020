{
 "cells": [
  {
   "cell_type": "markdown",
   "metadata": {},
   "source": [
    "# Devoir 2\n",
    "\n",
    "Dans ce notebook, vous allez (1) vous familiariser d'avantage avec la méthode d'Euler pour résoudre numériquement des équations différentielles, et (2) utiliser cette méthode pour intégrer (résoudre) les équations du modèle FitzHugh-Nagumo pour déterminer le seuil de décharge du modèle."
   ]
  },
  {
   "cell_type": "markdown",
   "metadata": {},
   "source": [
    "###  1: La méthode d'Euler\n",
    "\n",
    "Cette semaine, nous avons vu comment intégrer une équation différentielle avec la méthode d'Euler. De manière générale, un peut formuler une équation différentielel ordinaire de cette forme, où $x=x(t)$ est notre variable dynamique (dont nous voulons connaître l'évolution) :\n",
    "\n",
    "$$ \\frac{dx}{dt} = f(x,t)  $$\n",
    "\n",
    "L'exemple utilisé dans le cours était assez simple, pour qu'on puisse comparer la solution analytique exacte au résultat de notre intégration numérique, nécessairement approximative. Avec $f(x,t) = -x/\\tau$ (ici, $\\tau$ est une constante de temps), et une valeur initiale $x(t=0)=x_0$, la solution de notre équation différentielle, c'est-à-dire l'évolution de notre système dynamique, est donnée par $x(t)=x_0 e^{-t/\\tau}$. \n",
    "\n",
    "Cependant, la fonction $f(x,t)$, qui gouverne l'évolution de $x(t)$ peut être plus compliquée et par exemple dépendre explicitement du temps, par ex. quand une force externe agit sur le système. On va regarder un tel cas dans cette exercise.  \n",
    "\n",
    "#### Exercise 1.1 \n",
    "\n",
    "Intégrez numériquement l'équation différentielle \n",
    "\n",
    "$$ \\frac{dx}{dt} = \\cos(\\omega t) $$\n",
    "\n",
    "avec la condition initiale $x(t=0)=0$ et pour la fréquence d'oscillation $\\omega = 2\\pi$. Si vous connaissez la solution analytique, plottez-là ensemble avec votre solution numérique. Dans ce cas, la dérivée temporelle de $x(t)$ est donc donnée par la fonction $f(x,t)=\\cos(\\omega t) $. \n",
    "\n",
    "**Attention :** Veillez à vérifier que le pas de temps que vous utilisez est suffisamment petite pour que l'intégration numérique est correcte. \n",
    "\n",
    "**Rappel :** La valeur de $\\pi$ est accessible dans la variable `np.pi`. \n"
   ]
  },
  {
   "cell_type": "code",
   "execution_count": null,
   "metadata": {},
   "outputs": [],
   "source": [
    "# Import all necessary modules\n",
    "import numpy as np\n",
    "import matplotlib.pyplot as plt\n",
    "%matplotlib inline\n",
    "\n",
    "# pi = np.pi"
   ]
  },
  {
   "cell_type": "code",
   "execution_count": null,
   "metadata": {},
   "outputs": [],
   "source": [
    "# Choose appropriate discretization step for time\n",
    "T = 3. # time until which the dynamics should be integrated\n",
    "       # (not the time step!)\n",
    "    \n",
    "# (your code)"
   ]
  },
  {
   "cell_type": "code",
   "execution_count": null,
   "metadata": {},
   "outputs": [],
   "source": [
    "# Define the function that returns the time derivative of x(t)\n",
    "\n",
    "# (your code)"
   ]
  },
  {
   "cell_type": "code",
   "execution_count": null,
   "metadata": {},
   "outputs": [],
   "source": [
    "# Determine iteratively the value of x for discrete times\n",
    "\n",
    "# (your code)"
   ]
  },
  {
   "cell_type": "code",
   "execution_count": null,
   "metadata": {},
   "outputs": [],
   "source": [
    "# Plot x(t) against t\n",
    "# (If you know the theoretical solution, plot that one, too)"
   ]
  },
  {
   "cell_type": "markdown",
   "metadata": {},
   "source": [
    "#### Exercise 1.2\n",
    "\n",
    "Répétez l'intégration pour deux autres valeurs de $\\omega$ et plottez les différentes solutions ensemble."
   ]
  },
  {
   "cell_type": "code",
   "execution_count": null,
   "metadata": {},
   "outputs": [],
   "source": [
    "# Repeat for lower oscillation freqency\n",
    "omega1 = np.pi\n",
    "\n",
    "# (your code)"
   ]
  },
  {
   "cell_type": "code",
   "execution_count": null,
   "metadata": {},
   "outputs": [],
   "source": [
    "# Repeat for increased oscillation freqency\n",
    "omega2 = 4*np.pi\n",
    "\n",
    "# (your code)"
   ]
  },
  {
   "cell_type": "markdown",
   "metadata": {},
   "source": [
    "#### Exercise 1.3\n",
    "\n",
    "Intégrez numériquement l'équation différentielle suivante :\n",
    "\n",
    "$$ \\frac{dx}{dt} = - x + a \\cos(\\omega t) $$\n",
    "\n",
    "avec la condition initiale $x(t=0)=10$ et avec les paramètres  $\\omega = 2\\pi$ et $a = 1$."
   ]
  },
  {
   "cell_type": "code",
   "execution_count": null,
   "metadata": {},
   "outputs": [],
   "source": [
    "# Define the time step etc.\n",
    "\n",
    "# (your code)\n",
    "\n",
    "# Define the function that returns the derivative\n",
    "\n",
    "# (your code)\n",
    "\n",
    "# Solve iteratively for x(x)\n",
    "\n",
    "# (your code)\n"
   ]
  },
  {
   "cell_type": "code",
   "execution_count": null,
   "metadata": {},
   "outputs": [],
   "source": [
    "# Plot the numerically deterimined solution together with the solution\n",
    "# in the undamped case (Exercise 1.1)\n",
    "\n",
    "# (your code)"
   ]
  },
  {
   "cell_type": "markdown",
   "metadata": {},
   "source": [
    "### 2: Le modèle de FitzHugh-Nagumo\n",
    "\n",
    "Dans le TD de cette semaine, nous avons étudié le modèle FitzHugh-Nagumo, qui décrit de manière simplifiée la décharge neuronale. Le modèle est spécifié par les équations \n",
    "\n",
    "\n",
    "$$ \\frac{dV}{dt} = V - V^3/3 - W + I ,$$\n",
    "\n",
    "$$ \\frac{dW}{dt} = 0.08 (V+ 0.7 - 0.8 W), $$\n",
    "\n",
    "\n",
    "Nous avons constaté qu'en fonction du courant $I$ injecté, le neurone décharge (génére des pics de potentiel $V$) ou reste silencieux (les variables ne varient pas dans le temps, après une rélaxation intitiale). \n",
    "\n",
    "#### Exercise 2.1\n",
    "\n",
    "Déterminez, à deux décimales près, la valeur seuil de $I$ au-dessus de laquelle le neurone décharge de manière répétée. Pour éviter des PA singulier uniquement dus aux conditions initiales, choisissez des valeurs initiales $V(t=0)=-1$, $W(t=0)=0$.\n",
    "\n",
    "**Astuce :** Vous pouvez réutilisez le code du TD pour l'implémentation du modèle. "
   ]
  },
  {
   "cell_type": "code",
   "execution_count": null,
   "metadata": {},
   "outputs": [],
   "source": [
    "# Time discretization\n",
    "dt = 0.01\n",
    "T = 200.0\n",
    "t = np.arange(0,T,dt)\n",
    "nt = len(t)\n",
    "\n",
    "# Definition of derivative fonctions that describe \n",
    "# the dynamics of the model variables\n",
    "def dVdt(v,w,I):\n",
    "    return v-(v**3)/3-w+I\n",
    "\n",
    "def dWdt(v,w):\n",
    "    return 0.08*(v+0.7-0.8*w)\n",
    "\n",
    "# (your code)"
   ]
  },
  {
   "cell_type": "markdown",
   "metadata": {},
   "source": [
    "#### Exercise 2.2\n",
    "\n",
    "Pour une valeur de $I$ au-dessus du seuil, c'est-à-dire quand le neurone décharge, plottez le potentiel de membrane $V$ contre la valeur de la variable lente $W$. Cela est appelé un \"phase plot\", est permet de caractériser comment les deux variables co-évoluent. "
   ]
  },
  {
   "cell_type": "code",
   "execution_count": null,
   "metadata": {},
   "outputs": [],
   "source": [
    "# (your code)"
   ]
  }
 ],
 "metadata": {
  "kernelspec": {
   "display_name": "Python 3",
   "language": "python",
   "name": "python3"
  },
  "language_info": {
   "codemirror_mode": {
    "name": "ipython",
    "version": 3
   },
   "file_extension": ".py",
   "mimetype": "text/x-python",
   "name": "python",
   "nbconvert_exporter": "python",
   "pygments_lexer": "ipython3",
   "version": "3.7.3"
  }
 },
 "nbformat": 4,
 "nbformat_minor": 2
}
