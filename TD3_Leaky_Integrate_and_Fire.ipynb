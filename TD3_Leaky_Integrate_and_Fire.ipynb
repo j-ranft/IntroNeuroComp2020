{
 "cells": [
  {
   "cell_type": "markdown",
   "metadata": {
    "cell_id": "00000-55252802-53af-4dd2-8f57-8a75f2fce1a1",
    "deepnote_cell_type": "markdown"
   },
   "source": [
    "# TD 3 : Le modèle Leaky Integrate-and-Fire\n",
    "---"
   ]
  },
  {
   "cell_type": "code",
   "execution_count": 1,
   "metadata": {
    "cell_id": "00001-d598d34c-36e1-4971-a320-02eed77f8626",
    "deepnote_cell_type": "code",
    "execution_millis": 231,
    "execution_start": 1606320608755,
    "output_cleared": false,
    "source_hash": "fd52755a"
   },
   "outputs": [],
   "source": [
    "# import necessary modules for numerics and plotting\n",
    "import numpy as np\n",
    "import matplotlib.pyplot as plt\n",
    "%matplotlib inline"
   ]
  },
  {
   "cell_type": "markdown",
   "metadata": {
    "cell_id": "00002-75cdf216-a747-4af7-a437-7a7657cd1420",
    "deepnote_cell_type": "markdown"
   },
   "source": [
    "# 1. Le modèle Integrate-and-Fire \n",
    "\n",
    "La dynamique sous-seuil d'un neurone \"Integrate-and-Fire\" est décrit par l'équation \n",
    "$$\\tau \\frac{dV}{dt} = -V + RI.$$\n",
    "Ici, $V$ est le potentiel de la membrane, $\\tau$ est la constante de temps de la membrane, $R$ la résistance d'entrée, et $I$ représente un courant injecté dans le neurone. Pour faire simple, tous les potentiels sont mésurés rélatif au potentiel de repos $E_L$, qui pour cette raison n'apparaît plus dans l'équation. Chaque fois que le potentiel excède un seuil $V_{\\rm seuil}$, on considère que le neurone emet un potentiel d'action, et le potentiel membranaire est remis à une valeur de \"reset\", $V\\to V_{\\rm reset}$.\n",
    "\n",
    "Considérons les paramètres suivants : $\\tau=20$ ms et $R=1$ MOhm pour la dynamique sous-seuil, et $V_{\\rm seuil}=20$ mV avec $V_{\\rm reset}=0$ mV pour le mécanisme de décharge. \n",
    "\n",
    "Remarque : Si nous allons spécifier le courant $I$ en nA, nous pouvons calculer le produit $R*I$ sans dévoir transformer des unités, puisque MOhm x nA = mV. \n",
    "\n"
   ]
  },
  {
   "cell_type": "markdown",
   "metadata": {
    "cell_id": "00003-a06734a2-259c-4303-9795-402296b16407",
    "deepnote_cell_type": "markdown"
   },
   "source": [
    "## E1.1 Solution analytique de la dynamique sous-seuil du modèle Integrate-and-Fire\n",
    "\n",
    "Quel est le potentiel de la membrane stationnaire - ou le point fixe - pour $t\\rightarrow \\infty$ si on considère uniquement la dynamique sous-seuil spécifiée ci-dessus, c'est-à-dire en faisant abstraction du mécanisme de décharge ? \n",
    "\n",
    "Vérifiez que $$V(t) = RI + (V_0 - RI) \\exp(-t/\\tau)$$ est une solution de l'équation différentielle avec la condition initiale $V(t=0) = V_0$. \n",
    "\n",
    "**Indice**: Rappelez-vous que $\\frac{d}{dt} \\left( e^{f(t)} \\right) = e^{f(t)} \\frac{df(t)}{dt}$"
   ]
  },
  {
   "cell_type": "code",
   "execution_count": 2,
   "metadata": {
    "cell_id": "00004-0015ec88-6416-432d-a34f-8ff68a0a519e",
    "deepnote_cell_type": "code"
   },
   "outputs": [],
   "source": [
    "# calcul et réponses sur papier"
   ]
  },
  {
   "cell_type": "markdown",
   "metadata": {},
   "source": [
    "**Solution :** \n",
    "\n",
    "A) Pour $t\\to\\infty$, la fonction exponentielle $\\exp(-t/\\tau)\\to0$, et donc $V\\to RI$ si on part de la solution pour $V(t)$ donnée ici. On peut également trouver ce résultat directement à partir de l'équation différentielle plus haut : Pour $t\\to\\infty$, on peut considérer que le potentiel $V$ aura atteint une valeur stationnaire. Dans l'état stationnaire, $\\frac{dV}{dt}=0$, et du coup $V=RI$.\n",
    "\n",
    "B) Vérifions si $\\tau \\frac{dV}{dt} = -V + RI$ avec $V=V(t)$ la solution donnée. Le côté gauche est donné par  \n",
    "$$\n",
    "\\begin{aligned}\n",
    "\\tau \\frac{dV}{dt} &= \\tau \\frac{d}{dt} \\left[RI + (V_0 - RI) \\exp(-t/\\tau)\\right] \\\\\n",
    " &= \\tau (V_0 - RI) \\frac{d}{dt}\\exp(-t/\\tau) \\\\\n",
    " &= \\tau (V_0 - RI) \\exp(-t/\\tau) \\frac{d}{dt} (-\\frac{t}{\\tau}) \\\\\n",
    " &= - (V_0 - RI) \\exp(-t/\\tau)\n",
    "\\end{aligned}\n",
    "$$\n",
    "Le côté droit est donné par \n",
    "$$\n",
    "\\begin{aligned}\n",
    "- V + RI &= - \\left[RI + (V_0 - RI) \\exp(-t/\\tau)\\right] + RI \\\\\n",
    " &= - (V_0 - RI) \\exp(-t/\\tau)\n",
    "\\end{aligned}\n",
    "$$\n",
    "QED."
   ]
  },
  {
   "cell_type": "code",
   "execution_count": 3,
   "metadata": {
    "cell_id": "00005-fe9a30e5-dbd3-40f5-bab1-c971ecba70c4",
    "deepnote_cell_type": "code",
    "execution_millis": 125,
    "execution_start": 1606320920696,
    "output_cleared": false,
    "source_hash": "92d9eb80"
   },
   "outputs": [
    {
     "data": {
      "text/plain": [
       "[<matplotlib.lines.Line2D at 0x113e2ea90>]"
      ]
     },
     "execution_count": 3,
     "metadata": {},
     "output_type": "execute_result"
    },
    {
     "data": {
      "image/png": "[encoded data removed]",
      "text/plain": [
       "<Figure size 432x288 with 1 Axes>"
      ]
     },
     "metadata": {
      "needs_background": "light"
     },
     "output_type": "display_data"
    }
   ],
   "source": [
    "# We can also graphically inspect\n",
    "# the solution using Python\n",
    "Vreset = 0.0 # mV\n",
    "V0 = Vreset\n",
    "Vseuil = 20. # mV\n",
    "tau = 20. # ms\n",
    "R = 5. # MOhm\n",
    "\n",
    "\n",
    "def v_of_t(t, I):\n",
    "    return R*I + (V0-R*I)*np.exp(-t/tau)\n",
    "\n",
    "t = np.arange(0,80,0.1)\n",
    "\n",
    "fig, ax = plt.subplots()\n",
    "ax.plot(t, v_of_t(t, 0))\n",
    "ax.plot(t, v_of_t(t, 1))\n",
    "ax.plot(t, v_of_t(t, 5))\n",
    "ax.set_xlabel('t (ms)')\n",
    "ax.set_ylabel('V (mV)')\n",
    "# plot the threshold Vseuil\n",
    "ax.plot(t, Vseuil*np.ones(len(t)), color='k', linestyle='--')\n",
    "\n"
   ]
  },
  {
   "cell_type": "markdown",
   "metadata": {
    "cell_id": "00007-0b1ea45c-44d9-448c-a02f-ca32e99e9f5c",
    "deepnote_cell_type": "markdown"
   },
   "source": [
    "## E1.2 L'activité de décharge du neurone Integrate-and-Fire\n",
    "\n",
    "Dans le modèle Integrate-and-Fire, un potentiel d'action est déclenché lorsque le potentiel de membrane atteint un seuil $V_{\\rm seuil}$. Le potentiel est remis à $V \\rightarrow V_{\\rm reset}$ après le potentiel d'action. \n",
    "\n",
    "**Dans quelle condition, c'est-à-dire pour quel courant injecté, le neurone déclenche-t-il des potentiels d'action ?**\n",
    "\n",
    "Veuillez dériver l'expression analytique du taux de décharge $f(t)$ en fonction de l'input externe $I$. \n",
    "\n",
    "**Indice :** Calculez d'abord combien de temps $T$ il faut pour passer de $V(t=0)=V_{\\rm reset}$ à $V(T)=V_{\\rm seuil}$. Ce temps $T$ entre deux spikes dépend du courant injecté, $T=T(I)$. Le taux de décharge en fonction de l'input est alors donné par $f(I) = 1/T(I)$. Tracez le taux de décharge $f$ en fonction de l'entrée $I$."
   ]
  },
  {
   "cell_type": "code",
   "execution_count": 4,
   "metadata": {
    "cell_id": "00008-3472649f-6745-4d1f-9bff-ba6035ca1836",
    "deepnote_cell_type": "code"
   },
   "outputs": [],
   "source": [
    "# calcul et réponses sur papier"
   ]
  },
  {
   "cell_type": "markdown",
   "metadata": {
    "cell_id": "00009-7da50ac7-1ab9-4287-a45c-1c2378a8dc72",
    "deepnote_cell_type": "markdown"
   },
   "source": [
    "**Réponses :**\n",
    "\n",
    "A)  Il faut que le courant soit suffissament grand, à savoir $I> V_{\\rm seuil}/R$, pour que le potentiel va traverser le seuil à un moment donné. (Quand le neurone n'est pas en train d'émettre un potentiel d'action, le potentiel du neurone est en-dessous du seuil, donc l'approchera par le bas.) \n",
    "\n",
    "B) Si $I> V_{\\rm seuil}/R$, le neurone va emettre des spikes, et après chaque \"reset\" le potentiel va remonter en suivant la solution donnée ci-haut, avec $V(t=0)=V_{\\rm reset}$ (et $V_{\\rm reset}=0$ dans notre cas), jusqu'à ce qu'il atteint le seuil. Le temps $T$ entre un \"reset\" et un nouveau franchissement du seuil est donc déterminé par l'égalité $V(T)=V_{\\rm seuil}$. Avec $V(T) = RI[1-\\exp(-T/\\tau)]$, on obtient\n",
    "$$\n",
    "\\begin{aligned}\n",
    "RI[(1-\\exp(-T/\\tau)]] &= V_{\\rm seuil} \\\\\n",
    "\\Rightarrow \\exp(-T/\\tau) &= 1 - \\frac{V_{\\rm seuil}}{RI} \\\\\n",
    "\\Rightarrow -T/\\tau &= \\log(1 - \\frac{V_{\\rm seuil}}{RI}) \\\\\n",
    "\\Rightarrow T &= -\\tau \\log(1 - \\frac{V_{\\rm seuil}}{RI})\n",
    "\\end{aligned}\n",
    "$$\n",
    "Le taux de décharge est donc donné par \n",
    "$$f(I) = \\frac{1}{ -\\tau \\log(1 - \\frac{V_{\\rm seuil}}{RI})}$$"
   ]
  },
  {
   "cell_type": "code",
   "execution_count": 5,
   "metadata": {
    "cell_id": "00010-cf593594-96d0-4ecd-8c5c-645a7ffe7eb7",
    "deepnote_cell_type": "code",
    "execution_millis": 72,
    "execution_start": 1606322306616,
    "output_cleared": false,
    "scrolled": false,
    "source_hash": "d9d5d325"
   },
   "outputs": [
    {
     "name": "stdout",
     "output_type": "stream",
     "text": [
      "31.066746727980593 Hz\n"
     ]
    },
    {
     "name": "stderr",
     "output_type": "stream",
     "text": [
      "/Users/jranft/miniconda3/lib/python3.7/site-packages/ipykernel_launcher.py:5: RuntimeWarning: divide by zero encountered in log\n",
      "  \"\"\"\n"
     ]
    },
    {
     "data": {
      "text/plain": [
       "Text(0, 0.5, 'f (Hz)')"
      ]
     },
     "execution_count": 5,
     "metadata": {},
     "output_type": "execute_result"
    },
    {
     "data": {
      "image/png": "[encoded data removed]",
      "text/plain": [
       "<Figure size 432x288 with 1 Axes>"
      ]
     },
     "metadata": {
      "needs_background": "light"
     },
     "output_type": "display_data"
    }
   ],
   "source": [
    "# plot of the firing rate vs. input current\n",
    "Icrit = Vseuil/R\n",
    "\n",
    "def f_I_curve(I):\n",
    "    T_in_ms = -tau*np.log(1-Vseuil/(R*I))\n",
    "    T_in_s = T_in_ms/1000\n",
    "    f_in_Hz = 1/T_in_s\n",
    "    return f_in_Hz\n",
    "\n",
    "print(f_I_curve(5.), 'Hz')\n",
    "\n",
    "Iarr = np.arange(Icrit, 10, 0.01)\n",
    "\n",
    "fig, ax = plt.subplots()\n",
    "ax.plot(Iarr, f_I_curve(Iarr))\n",
    "ax.set_xlabel('I (nA)')\n",
    "ax.set_ylabel('f (Hz)')"
   ]
  },
  {
   "cell_type": "markdown",
   "metadata": {
    "cell_id": "00011-d57be10e-15c9-4515-8e1d-eefc3da69bdf",
    "deepnote_cell_type": "markdown"
   },
   "source": [
    "## E1.3 Neurone Integrate-and-Fire avec période refractaire\n",
    "\n",
    "Considérons maintenant un neurone avec une période réfractaire : Dans cette modification du modèle, le neurone n'intégre pas d'inputs pendant une période brève après l'émission d'un spike, similaire aux vrais neurones. Supposons que la période réfractaire dure un temps $D$. Comment le taux de décharge $f(I)$ change-t-il avec une période réfractaire de $D=5$ ms ? Quelle est la nouvelle expression pour $f(I)$ ? Tracez $f$ en fonction de $I$. \n",
    "\n",
    "**Remarque :** La dynamique sous-seuil, une fois la période refractaire passée, est identique au cas sans période refractaire, c'est-à-dire n'est pas modifiée, et un spike est toujours déclenché quand $V>V_{\\rm seuil}$.\n",
    "\n",
    "**Indice :** Dessinez d'abord un croquis de la dynamique du potentiel membranaire pour avoir une meilleure idée de la façon dont $D$ affecte $T$. "
   ]
  },
  {
   "cell_type": "code",
   "execution_count": 6,
   "metadata": {
    "cell_id": "00012-6a44e5d7-270a-4105-864c-853b0c599528",
    "deepnote_cell_type": "code"
   },
   "outputs": [],
   "source": [
    "# calcul et réponses sur papier"
   ]
  },
  {
   "cell_type": "markdown",
   "metadata": {
    "cell_id": "00013-a0762ace-7e09-4a9e-839a-c42df6a74508",
    "deepnote_cell_type": "markdown"
   },
   "source": [
    "**Réponse :**\n",
    "\n",
    "La période refractaire correspond simplement à un temps \"mort\" après le reset, pendant lequel le potentiel ne change pas et reste gélé à la valeur du \"reset\". Si la durée pour aller du reset au seuil était donnée avant par $T$, il faudra maintenant simplement rajouté la durée de ce \"temps mort\" avant que la dynamique ne commence : \n",
    "$$T_{\\rm avec} = T_{\\rm sans} + D$$\n",
    "et du coup\n",
    "$$f(I) = \\frac{1}{ -\\tau \\log(1 - \\frac{\\Theta}{RI}) + D}$$"
   ]
  },
  {
   "cell_type": "code",
   "execution_count": 7,
   "metadata": {
    "cell_id": "00014-0434209d-880e-49f6-b1e3-47a45d37f3e4",
    "deepnote_cell_type": "code"
   },
   "outputs": [
    {
     "name": "stderr",
     "output_type": "stream",
     "text": [
      "/Users/jranft/miniconda3/lib/python3.7/site-packages/ipykernel_launcher.py:4: RuntimeWarning: divide by zero encountered in log\n",
      "  after removing the cwd from sys.path.\n"
     ]
    },
    {
     "data": {
      "text/plain": [
       "<matplotlib.legend.Legend at 0x114076dd8>"
      ]
     },
     "execution_count": 7,
     "metadata": {},
     "output_type": "execute_result"
    },
    {
     "data": {
      "image/png": "[encoded data removed]",
      "text/plain": [
       "<Figure size 432x288 with 1 Axes>"
      ]
     },
     "metadata": {
      "needs_background": "light"
     },
     "output_type": "display_data"
    }
   ],
   "source": [
    "# plotting the f-I-curve with refractory period\n",
    "\n",
    "def f_I_curve(I,D=0.):\n",
    "    T_in_ms = -tau*np.log(1-Vseuil/(R*I)) + D\n",
    "    T_in_s = T_in_ms/1000\n",
    "    f_in_Hz = 1/T_in_s\n",
    "    return f_in_Hz\n",
    "\n",
    "# NOTE: Here, weused the possibility to \n",
    "# define a \"default\" argument value when we \n",
    "# create/define a function. When we call \n",
    "# the above function with ONLY ONE argument,\n",
    "# the value of D will be 0.; when we call \n",
    "# the function with TWO arguments, the first\n",
    "# will be used for the current I (as before)\n",
    "# and the second will be used for the \n",
    "# refractory period D\n",
    "\n",
    "Iarr = np.arange(Icrit, 10, 0.01)\n",
    "\n",
    "fig, ax = plt.subplots()\n",
    "ax.plot(Iarr, f_I_curve(Iarr), label='D=0 (no refr. period)')\n",
    "ax.plot(Iarr, f_I_curve(Iarr, 5.), label='D=5ms')\n",
    "ax.set_xlabel('I (nA)')\n",
    "ax.set_ylabel('f (Hz)')\n",
    "ax.legend()"
   ]
  },
  {
   "cell_type": "markdown",
   "metadata": {},
   "source": [
    "**Remarque :** Nous observons qu'à faible taux de décharge, c'est-à-dire à des temps interspike longs, la période refractaire ne pèse pas / ne modifie pas de manière importante le taux de décharge ; quand $D$ devient comparable au temps interspike, le taux de décharge est réduit de manière significative."
   ]
  }
 ],
 "metadata": {
  "deepnote_execution_queue": [],
  "deepnote_notebook_id": "c610785f-a803-4674-a26d-fe53c963503b",
  "kernelspec": {
   "display_name": "Python 3",
   "language": "python",
   "name": "python3"
  },
  "language_info": {
   "codemirror_mode": {
    "name": "ipython",
    "version": 3
   },
   "file_extension": ".py",
   "mimetype": "text/x-python",
   "name": "python",
   "nbconvert_exporter": "python",
   "pygments_lexer": "ipython3",
   "version": "3.7.3"
  }
 },
 "nbformat": 4,
 "nbformat_minor": 2
}
