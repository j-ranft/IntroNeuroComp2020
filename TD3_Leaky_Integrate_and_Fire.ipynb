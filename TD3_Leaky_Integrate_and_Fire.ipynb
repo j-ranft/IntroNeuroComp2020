{
 "cells": [
  {
   "cell_type": "markdown",
   "metadata": {},
   "source": [
    "# TD 3 : Le modèle Leaky Integrate-and-Fire\n",
    "---"
   ]
  },
  {
   "cell_type": "code",
   "execution_count": null,
   "metadata": {},
   "outputs": [],
   "source": [
    "# import necessary modules for numerics and plotting\n",
    "import numpy as np\n",
    "import matplotlib.pyplot as plt\n",
    "%matplotlib inline"
   ]
  },
  {
   "cell_type": "markdown",
   "metadata": {},
   "source": [
    "# 1. Le modèle Integrate-and-Fire \n",
    "\n",
    "La dynamique sous-seuil d'un neurone \"Integrate-and-Fire\" est décrit par l'équation \n",
    "$$\\tau \\frac{dV}{dt} = -V + RI.$$\n",
    "Ici, $V$ est le potentiel de la membrane, $\\tau$ est la constante de temps de la membrane, $R$ la résistance d'entrée, et $I$ représente un courant injecté dans le neurone. Pour faire simple, tous les potentiels sont mésurés rélatif au potentiel de repos $E_L$, qui pour cette raison n'apparaît plus dans l'équation. Chaque fois que le potentiel excède un seuil $V_{\\rm seuil}$, on considère que le neurone emet un potentiel d'action, et le potentiel membranaire est remis à une valeur de \"reset\", $V\\to V_{\\rm reset}$.\n",
    "\n",
    "Considérons les paramètres suivants : $\\tau=20$ ms et $R=1$ MOhm pour la dynamique sous-seuil, et $V_{\\rm seuil}=20$ mV avec $V_{\\rm reset}=0$ mV pour le mécanisme de décharge. \n",
    "\n",
    "Remarque : Si nous allons spécifier le courant $I$ en nA, nous pouvons calculer le produit $R*I$ sans dévoir transformer des unités, puisque MOhm x nA = mV. \n",
    "\n"
   ]
  },
  {
   "cell_type": "markdown",
   "metadata": {},
   "source": [
    "## E1.1 Solution analytique de la dynamique sous-seuil du modèle Integrate-and-Fire\n",
    "\n",
    "Quel est le potentiel de la membrane stationnaire - ou le point fixe - pour $t\\rightarrow \\infty$ si on considère uniquement la dynamique sous-seuil spécifiée ci-dessus, c'est-à-dire en faisant abstraction du mécanisme de décharge ? \n",
    "\n",
    "Vérifiez que $$V(t) = RI + (V_0 - RI) \\exp(-t/\\tau)$$ est une solution de l'équation différentielle avec la condition initiale $V(t=0) = V_0$. \n",
    "\n",
    "**Indice**: Rappelez-vous que $\\frac{d}{dt} \\left( e^{f(t)} \\right) = e^{f(t)} \\frac{df(t)}{dt}$"
   ]
  },
  {
   "cell_type": "code",
   "execution_count": null,
   "metadata": {},
   "outputs": [],
   "source": [
    "# calcul et réponses sur papier"
   ]
  },
  {
   "cell_type": "code",
   "execution_count": null,
   "metadata": {},
   "outputs": [],
   "source": [
    "# We can also graphically inspect\n",
    "# the solution using Python\n"
   ]
  },
  {
   "cell_type": "markdown",
   "metadata": {},
   "source": [
    "**Solution :** \n",
    "\n",
    "A) \n",
    "\n",
    "B) "
   ]
  },
  {
   "cell_type": "markdown",
   "metadata": {},
   "source": [
    "## E1.2 L'activité de décharge du neurone Integrate-and-Fire\n",
    "\n",
    "Dans le modèle Integrate-and-Fire, un potentiel d'action est déclenché lorsque le potentiel de membrane atteint un seuil $V_{\\rm seuil}$. Le potentiel est remis à $V \\rightarrow V_{\\rm reset}$ après le potentiel d'action. \n",
    "\n",
    "**Dans quelle condition, c'est-à-dire pour quel courant injecté, le neurone déclenche-t-il des potentiels d'action ?**\n",
    "\n",
    "Veuillez dériver l'expression analytique du taux de décharge $f(t)$ en fonction de l'input externe $I$. \n",
    "\n",
    "**Indice :** Calculez d'abord combien de temps $T$ il faut pour passer de $V(t=0)=V_{\\rm reset}$ à $V(T)=V_{\\rm seuil}$. Ce temps $T$ entre deux spikes dépend du courant injecté, $T=T(I)$. Le taux de décharge en fonction de l'input est alors donné par $f(I) = 1/T(I)$. Tracez le taux de décharge $f$ en fonction de l'entrée $I$."
   ]
  },
  {
   "cell_type": "code",
   "execution_count": null,
   "metadata": {},
   "outputs": [],
   "source": [
    "# calcul et réponses sur papier"
   ]
  },
  {
   "cell_type": "markdown",
   "metadata": {},
   "source": [
    "**Réponses :**\n",
    "\n",
    "A) \n",
    "\n",
    "B) "
   ]
  },
  {
   "cell_type": "code",
   "execution_count": null,
   "metadata": {
    "scrolled": true
   },
   "outputs": [],
   "source": [
    "# plot of the firing rate vs. input current\n"
   ]
  },
  {
   "cell_type": "markdown",
   "metadata": {},
   "source": [
    "## E1.3 Neurone Integrate-and-Fire avec période refractaire\n",
    "\n",
    "Considérons maintenant un neurone avec une période réfractaire : Dans cette modification du modèle, le neurone n'intégre pas d'inputs pendant une période brève après l'émission d'un spike, similaire aux vrais neurones. Supposons que la période réfractaire dure un temps $D$. Comment le taux de décharge $f(I)$ change-t-il avec une période réfractaire de $D=5$ ms ? Quelle est la nouvelle expression pour $f(I)$ ? Tracez $f$ en fonction de $I$. \n",
    "\n",
    "**Remarque :** La dynamique sous-seuil, une fois la période refractaire passée, est identique au cas sans période refractaire, c'est-à-dire n'est pas modifiée, et un spike est toujours déclenché quand $V>V_{\\rm seuil}$.\n",
    "\n",
    "**Indice :** Dessinez d'abord un croquis de la dynamique du potentiel membranaire pour avoir une meilleure idée de la façon dont $D$ affecte $T$. "
   ]
  },
  {
   "cell_type": "code",
   "execution_count": null,
   "metadata": {},
   "outputs": [],
   "source": [
    "# calcul et réponses sur papier"
   ]
  },
  {
   "cell_type": "markdown",
   "metadata": {},
   "source": [
    "**Réponse :**\n",
    "\n"
   ]
  },
  {
   "cell_type": "code",
   "execution_count": null,
   "metadata": {},
   "outputs": [],
   "source": [
    "# plotting the f-I-curve with refractory period\n",
    "\n",
    "# (your code)"
   ]
  },
  {
   "cell_type": "markdown",
   "metadata": {},
   "source": [
    "## E1.4 Intégration numérique du modèle Integrate-and-Fire avec décharge\n",
    "\n",
    "La semaine précédente, nous avons utilisé la méthode d'Euler pour résoudre des équations différentielles. Nous pouvons utiliser cette même technique pour résoudre la dynamique sous-seuil d'un neurone LIF (Leaky Integrate-and-Fire), en rajoutant un mécanisme de détection de spike et de reset.\n"
   ]
  },
  {
   "cell_type": "code",
   "execution_count": null,
   "metadata": {},
   "outputs": [],
   "source": [
    "# Discretization of time\n",
    "\n",
    "# Definition of the dynamics\n",
    "# (function returning dV/dt)\n",
    "\n",
    "# Iterative integration of \n",
    "# the subthreshold dynamics,\n",
    "# COMBINED WITH threshold\n",
    "# crossing detection!\n",
    "\n",
    "# (your code)"
   ]
  },
  {
   "cell_type": "markdown",
   "metadata": {},
   "source": [
    "# 2. Activité irrégulière des neurones corticaux"
   ]
  },
  {
   "cell_type": "markdown",
   "metadata": {},
   "source": [
    "Dans le cortex, le timing des potentiels d'action successifs est très irrégulier. Le coefficient de variation des intervalles inter-spike est proche de 1, similaire à un processus de Poisson. Pour un processus de Poisson, la fonction de densité de probabilité pour le temps d'attente jusqu'au spike suivant est donnée par \n",
    "$$p(T) = f {\\rm e}^{-f T}$$\n",
    "Ici, $T$ est l'intervalle interspike, et $f$ est le taux de décharge. \n",
    "\n",
    "Ainsi, la densité de l'intervalle interspike pour un train de spike de Poisson homogène est une fonction exponentielle. Les intervalles d'interspike les plus probables sont courts et les intervalles longs ont une probabilité qui diminue de façon exponentielle en fonction de leur durée. Les histogrammes d'intervalles interspike peuvent être extraits des potentiels d'action en calculant la différence de temps entre tous les spikes successifs.  \n",
    "\n",
    "Dans l'approximation la plus simple, le temps du spike suivant n'est pas du tout correlé avec le temps du spike précédant. (Evidemment, cela n'est pas vrai dès lors qu'il y a un temps refractaire, comme c'est biologiquement impossible qu'un neuron décharge par ex. deux fois d'affilé dans l'espace de moins d'une ms.)"
   ]
  },
  {
   "cell_type": "markdown",
   "metadata": {},
   "source": [
    "## E2.1  Train de spike Poisson\n",
    "\n",
    "Générez un train de spikes de Poisson du taux $f = 10$ spk/sec. Calculez la moyenne et l'écart type des intervalles interspike (ISI). Vérifier que le coefficient de variation (CV = écart type/moyenne) est égal à 1. Tracez l'histogramme des ISI. Comment un train de spikes peut-il être généré à partir des ISIs? \n",
    "\n",
    "\n",
    "**Indice :** Rappelez-vous que les intervalles d'interspike d'un train de spikes Poisson sont distribués de façon exponentielle.  À son tour, le train peut être généré en tirant des nombres aléatoires de la distribution exponentielle et en les traitant comme des intervalles interspike. Utilisez la fonction numpy `np.random.exponential()` pour tirer les nombres de la distribution exponentielle. \n",
    "\n",
    "\n",
    "\n",
    "**Indice :** Vous pouvez créer et plotter des histograms avec la fonction `ax.hist`. \n"
   ]
  },
  {
   "cell_type": "code",
   "execution_count": null,
   "metadata": {},
   "outputs": [],
   "source": [
    "# look up the documentation for functions\n",
    "# that you don't know\n",
    "np.random.exponential?"
   ]
  },
  {
   "cell_type": "code",
   "execution_count": null,
   "metadata": {},
   "outputs": [],
   "source": [
    "# Sample a distribution of exponentially \n",
    "# distributed ISIs respecting that the \n",
    "# given average firing rate\n",
    "\n",
    "# (your code)"
   ]
  },
  {
   "cell_type": "code",
   "execution_count": null,
   "metadata": {
    "scrolled": true
   },
   "outputs": [],
   "source": [
    "# Plot the histogram\n",
    "\n",
    "# (your code)"
   ]
  },
  {
   "cell_type": "code",
   "execution_count": null,
   "metadata": {},
   "outputs": [],
   "source": [
    "# Plot the spiketrain\n",
    "# TIP: use ax.vlines to plot\n",
    "# vertical lines at a given \n",
    "# value along the x-axis, such\n",
    "# that each spike is represented\n",
    "# by a line\n",
    "\n",
    "# (your code)"
   ]
  },
  {
   "cell_type": "markdown",
   "metadata": {},
   "source": [
    "---\n",
    "## Bonus :\n",
    "\n",
    "# 3. Décharge irrégulière dans le modèle Integrate-and-Fire\n",
    "\n",
    "Ajoutons une entrée de bruit à l'équation du neurone Integrate-and-Fire ci-dessus\n",
    "$$\\tau \\frac{dV}{dt} = -V + RI + \\sigma \\sqrt{\\tau} \\xi(t),$$\n",
    "où $\\sigma$ détermine l'amplitude du bruit et $\\xi(t)$ est un processus de bruit blanc gaussien avec une densité de variance unitaire et moyenne zéro.\n",
    "\n",
    "Le terme de bruit peut par ex. représenter :     \n",
    "* la stochasticité d'ouverture et de fermeture des canaux ioniques,\n",
    "* le bruit synaptique (fiabilité de la transmission synaptique),\n",
    "* les entrées synaptiques externes (inconnues et/ou variables entre les essais).\n",
    "\n",
    "Il est implémenté comme suit dans un schéma d'intégration numérique: \n",
    " 1. Tirez un nombre aléatoire $\\eta$ pour chaque pas de temps à partir d'une distribution gaussienne avec une moyenne zéro et une variance unitaire. Ceci peut être réalisé en utilisant la fonction numpy suivante: `np.random.normal()`.\n",
    " 2. Échellez ce nombre par la largeur de l'intervalle de temps : $\\xi = \\eta/\\sqrt{dt}$\n",
    " 3. Utilisez ce nombre dans l'équation différentielle. \n"
   ]
  },
  {
   "cell_type": "markdown",
   "metadata": {},
   "source": [
    "## E3.1 Intégration numérique d'une équation différentielle stochastique : Integrate-and-Fire avec le bruit\n",
    "\n",
    "Écrivez un schéma d'intégration numérique de l'équation différentielle ci-dessus. Utilisez la méthode Euler : $x(t+\\Delta t) = x(t) +  \\Delta t (dx/dt)$ avec un largeur de pas de temps de $0.1$ ms et intégrez pendant 20 secondes. Enregistrez les temps de spikes et calculez le coefficient de variation après l'intégration. Essayez d'obtenir un $CV$ de 1 à un taux de décharge de 1 spk/sec en variant $I$ et $\\sigma$. Tracer le potentiel de la membrane pendant une période de 20 sec. Inspectez l'histogramme de la distribution ISI.  \n",
    "\n"
   ]
  },
  {
   "cell_type": "code",
   "execution_count": null,
   "metadata": {},
   "outputs": [],
   "source": [
    "# Your code"
   ]
  }
 ],
 "metadata": {
  "kernelspec": {
   "display_name": "Python 3",
   "language": "python",
   "name": "python3"
  },
  "language_info": {
   "codemirror_mode": {
    "name": "ipython",
    "version": 3
   },
   "file_extension": ".py",
   "mimetype": "text/x-python",
   "name": "python",
   "nbconvert_exporter": "python",
   "pygments_lexer": "ipython3",
   "version": "3.7.3"
  }
 },
 "nbformat": 4,
 "nbformat_minor": 2
}
