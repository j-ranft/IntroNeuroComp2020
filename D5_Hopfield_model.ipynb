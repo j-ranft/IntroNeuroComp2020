{
 "cells": [
  {
   "cell_type": "markdown",
   "metadata": {},
   "source": [
    "# D5 : Modèle de Hopfield\n",
    "---\n",
    "\n",
    "Dans le dernier cours et le TD associé, nous avons étudié le modèle de Hopfield : C'est un modèle simplifié pour expliquer comment des motifs (mémoires) peuvent être stockés dans les connexions synaptiques et être récupérés par la dynamique du réseau. C'est l'archétype d'un réseau attracteur, dont le mécanisme sousjacent a par la suite également été démontré fonctionner avec des modèles de réseau plus compliqué (réseau à spike, modèles de taux de décharge etc.). \n",
    "\n",
    "Dans ce devoir, nous allons continuer à nous familiariser avec le modèle de Hopfield. Veuillez vous référer aux diapos du cours et les équations dans le notebook du TD associé pour la définition précise du modèle.\n"
   ]
  },
  {
   "cell_type": "code",
   "execution_count": null,
   "metadata": {},
   "outputs": [],
   "source": [
    "# imports \n",
    "import numpy as np\n",
    "import matplotlib.pyplot as plt\n",
    "%matplotlib inline"
   ]
  },
  {
   "cell_type": "markdown",
   "metadata": {},
   "source": [
    "### 1. Récupération d'un motif, $K=1$\n",
    "\n",
    "Dans le TD, nous avons simulé l'évolution d'un réseau dont les poids synaptiques étaient choisis pour encoder un smiley. Pour une valeur de $\\beta$ suffisamment grande (approx. $\\beta>2$ dans le cas étudié), le réseau évolue dans le sens souhaité, c'est-à-dire réproduit petit à petit le motif stocké. \n",
    "\n",
    "Reproduisez ici, pour $\\beta=5$, l'évolution du réseau pour un autre motif : au lieu d'importer le fichier 'smiley.dat', vous pouvez choisir 'wolf.dat' ou 'flowers.dat'. A part ce remplacement, le code du TD devrait être parfaitement re-utilisable (veillez juste à choisir le bon $\\beta$)."
   ]
  },
  {
   "cell_type": "code",
   "execution_count": null,
   "metadata": {},
   "outputs": [],
   "source": [
    "# your code"
   ]
  },
  {
   "cell_type": "markdown",
   "metadata": {},
   "source": [
    "### 2. Récupération d'un motif, $K=3$\n",
    "\n",
    "Dans le cours, nous avons vu que la capacité maximale d'un réseau de Hopfield est $K_c=0.138 N$, ce qui dans notre cas ($N=4096$) suggère que le réseau peut stocker jusqu'à 565 motifs différents. On va faire plus simple et n'en considérer que trois. \n",
    "\n",
    "Construisez un réseau de Hopfield avec des connexions synaptiques pour stocker les trois motifs 'smiley.dat', 'wolf.dat' et 'flowers.dat'. Pour cela, créez / définissez d'abord les trois arrays P0, P1, et P2 pour chaque motif respectif. Rappelez-vous que la matrice de connectivité et ensuite donnée par la superposition des matrices de connectivité qu'on obtiendrait pour un chaque motif individuellement."
   ]
  },
  {
   "cell_type": "code",
   "execution_count": null,
   "metadata": {},
   "outputs": [],
   "source": [
    "# For simplicity, here are the three patterns:\n",
    "P0 = np.loadtxt('smiley.dat').flatten()\n",
    "P1 = np.loadtxt('wolf.dat').flatten()\n",
    "P2 = np.loadtxt('flowers.dat').flatten()\n",
    "\n",
    "# your code"
   ]
  },
  {
   "cell_type": "markdown",
   "metadata": {},
   "source": [
    "Maintenant que vous avex créé le réseau, simulez l'évolution pour des conditions initiales différentes (voir ci-dessous). Pour chaque condition, calculez l'overlap avec chacun des trois motifs, et plottez comment les overlaps évoluent avec le temps.\n",
    "\n",
    "(Dans le code suivant, je suppose que la variable `S` représente toujours l'état du reseau aux différents moments et est une matrice avec la forme `(nt,N)`.)\n",
    "\n",
    "\n",
    "**Attention :** Il faut choisir une valeur de $\\beta$ suffisamment élevée pour pouvoir récupérer les motifs (essayez par ex. avec $\\beta=100$) !\n"
   ]
  },
  {
   "cell_type": "code",
   "execution_count": null,
   "metadata": {},
   "outputs": [],
   "source": [
    "# 1) Initial overlap with first pattern\n",
    "S[0] = 2*np.round(np.random.uniform(size=N))-1 # clear previous initial condition\n",
    "S[0,:800] = P0[:800] # partial overlap (first 800 neurons)\n",
    "\n",
    "# your code"
   ]
  },
  {
   "cell_type": "code",
   "execution_count": null,
   "metadata": {},
   "outputs": [],
   "source": [
    "# 2) Initial overlap with second pattern\n",
    "#    NOTE: we can choose a random subset of pixels for the overlap\n",
    "S[0] = 2*np.round(np.random.uniform(size=N))-1 # clear previous initial condition\n",
    "# pick 800 indices among the N possible indices:\n",
    "overlapping = np.random.choice(np.arange(N), size=800, replace=False) \n",
    "S[0,overlapping] = P1[overlapping]\n",
    "\n",
    "# your code"
   ]
  },
  {
   "cell_type": "code",
   "execution_count": null,
   "metadata": {},
   "outputs": [],
   "source": [
    "# 3) Initial overlap with two patterns\n",
    "S[0] = 2*np.round(np.random.uniform(size=N))-1 # clear previous initial condition\n",
    "# pick 400 indices among the first N/2 possible indices:\n",
    "overlapping1 = np.random.choice(np.arange(N//2), size=400, replace=False) \n",
    "S[0,overlapping1] = P1[overlapping1]\n",
    "# pick 400 indices among the second N/2 possible indices:\n",
    "overlapping2 = np.random.choice(np.arange(N//2,N), size=400, replace=False) \n",
    "S[0,overlapping2] = P2[overlapping2]\n",
    "\n",
    "# your code"
   ]
  },
  {
   "cell_type": "code",
   "execution_count": null,
   "metadata": {},
   "outputs": [],
   "source": []
  },
  {
   "cell_type": "code",
   "execution_count": null,
   "metadata": {},
   "outputs": [],
   "source": []
  }
 ],
 "metadata": {
  "kernelspec": {
   "display_name": "Python 3",
   "language": "python",
   "name": "python3"
  },
  "language_info": {
   "codemirror_mode": {
    "name": "ipython",
    "version": 3
   },
   "file_extension": ".py",
   "mimetype": "text/x-python",
   "name": "python",
   "nbconvert_exporter": "python",
   "pygments_lexer": "ipython3",
   "version": "3.7.3"
  }
 },
 "nbformat": 4,
 "nbformat_minor": 4
}
