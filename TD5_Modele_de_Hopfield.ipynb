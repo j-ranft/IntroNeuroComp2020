{
 "cells": [
  {
   "cell_type": "markdown",
   "metadata": {},
   "source": [
    "# TD 5 : Le réseau de Hopfield\n",
    "---\n",
    "\n",
    "Le modèle de Hopfield était pionnier pour décrire la capacité d'un réseau de neurone à rétenir des motifs en mémoire via ses connexions synaptiques, et des mécanismes de récupération de cette mémoire à partir d'un petit indice via une dynamique d'attracteur.\n",
    "\n",
    "\n",
    "### La définition du modèle\n",
    "\n",
    "Dans sa définition probabiliste, la dynamique du réseau est décrite par les équations suivantes :\n",
    "\n",
    " 0. L'activité d'un neurone $i$ (parmi $N$ neurones en total) dans un interval de temps $[t, t+\\Delta t]$ est décrit par une variable binaire $S_i(t)\\in \\{-1,1\\}$. Si le neurone est actif dans cet interval, $S_i(t)=1$, sinon $S_i(t)=-1$.\n",
    " \n",
    " \n",
    " 1. La matrice de connectivité étant donnée par $w_{ij}$, chaque neurone reçoit une entrée \n",
    "    $$h_i(t) = \\sum_{j=1\\ldots N} w_{ij}S_j(t)$$\n",
    "    au temps $t$, qui dépend des poids synaptiques entre les neurones présynaptiques $j$ et le neurone postsynaptique $i$ ainsi que l'état des neurones présynaptiques à temps $t$.\n",
    "    \n",
    "    \n",
    " 2. A chaque pas de temps, l'état de chaque neurone $S_i$, $i=1\\ldots N$, est mis à jour en fonction de l'état de tous les neurones au temps précédent via les entrées qu'il reçoit. La probabilité que le neurone est actif est donnée par\n",
    "    $${\\rm prob}[S_i(t+\\Delta t) = 1] = g(h_i(t)),$$\n",
    "    où la fonction de gain $g$ est souvent choisie comme\n",
    "    $$g(h_i) = \\frac{1}{1+e^{-\\beta h_i}}.$$\n",
    "    (La probabilité que $S_i(t+\\Delta t) = 1$ est donnée par $1-g(h_i)$.) Dans l'expression donnée pour $g$, $\\beta$ joue le rôle d'une témperature inverse : dans la limite $\\beta\\to\\infty$, la dynamique devient déterministe, et $S_i(t+\\Delta t) = 1$ si $h_i(t)>0$, et $S_i(t+\\Delta t) = -1$ si $h_i(t)>0$.\n",
    "\n",
    "\n",
    "Le réseau de Hopfield peut stocker des *motifs* qui correspondent à l'activité spécifique d'un sous-ensemble de neurones ; on dit qu'un motif est réproduit par le réseau si l'*overlap* entre l'état du réseau et le motif est proche de 1. Les motifs étant définis comme \n",
    "$$ P_i^\\mu \\in \\{-1,1\\},\\, i=1\\ldots N,\\,\\mu=1\\ldots K,$$\n",
    "l'**overlap** $m^\\nu(t)$ entre le motif $\\nu$ et l'état du réseau à temps $t$ est donné par\n",
    "$$ m^\\nu(t) = \\frac{1}{N}\\sum_{i=1\\ldots N} P^\\nu_i S_i(t).$$\n",
    "\n",
    "\n",
    "### La matrice de connectivité\n",
    "\n",
    "Comment choisir la matrice de connectivité pour que le réseau évolue vers un motif \"enregistré\" ?\n",
    "\n",
    "La solution proposée par Hopfield consiste à utiliser la connectivité suivante :\n",
    "\n",
    "$$ w_{ij} = \\frac{1}{N}\\sum_{\\mu=1\\ldots K} P_i^\\mu P_j^\\mu .$$\n",
    "\n",
    "(De manière générale, les connexions entre un neurone et lui-même, caracterisé par $w_{ii}$, ne sont pas admises, c'est-à-dire on enforce $w_{ii}=0$ après application de la connectivité ci-dessus.) \n",
    "\n",
    "Puisque les $P_i^\\mu\\in\\{-1,1\\}$, s'il n'y a qu'un seul motif ($K=1$), alors les poids prennnent également juste deux valeurs, $w_{ij}\\in \\{-1/N,1/N\\}$. Par contre, si le nombre de motifs augmente ($K>1$), cela n'est plus vrai et les poids (toujours obéissant cette définition) peuvent prendre des valeurs différentes entre $[-K/N,K/N]$."
   ]
  },
  {
   "cell_type": "markdown",
   "metadata": {},
   "source": [
    "### Exercise 1 : Le rôle de l'overlap\n",
    "\n",
    "1. Montrez qu'avec les définitions de $h_i$ et $w_{ij}$ ci-dessus, la dynamique peut être  exprimé en fonction des overlaps respectifs avec les différents motifs,\n",
    "$${\\rm prob}[S_i(t+\\Delta t) = 1] = g(\\sum_{\\mu=1\\ldots K} P_i^\\mu m^\\mu(t)).$$\n",
    "\n",
    "\n",
    "2. S'il n'y a qu'un seul motif ($K=1$), comment est-ce que l'état d'un neurone $i$ évolue par rapport à sa valeur dans le motif $P_i$ pour :\n",
    "    * un overlap positif, m>0 ?\n",
    "    * un overlap zéro, m=0 ?\n",
    "    * un overlap négatif, m<0 ?\n",
    "    \n",
    "\n",
    "3. Dans le cas avec plusieurs motifs ($K>1$), supposez qu'il y a un motif $\\nu$ pour lequel l'overlap $m^\\nu$ est positif et non-négligeable, pendant que les autres overlaps $m^\\mu$, $\\mu\\neq\\nu$, sont proches de 0. Comment pensez-vous vont évoluer les états $S_i$ des différents neurones par rapport au motif $\\nu$ ? Pouvez-vous justifier votre intuition ?"
   ]
  },
  {
   "cell_type": "markdown",
   "metadata": {},
   "source": [
    "## Hopfield en action !\n",
    "\n"
   ]
  },
  {
   "cell_type": "markdown",
   "metadata": {},
   "source": [
    "### Exercise 2 : L'évolution du réseau dans le temps\n",
    "\n",
    "1. Implémentez les mises à jour consécutives de l'état du réseau à partir de l'état initial ci-dessous, pour une valeur de $\\beta=1$. Affichez, à chacune des 5 itérations, l'état du réseau comme image, et plottez à la fin l'overlap $m^0$ avec le motif en fonction du temps.\n",
    "\n",
    "**Remarques :** La taille du réseau (le nombre de neurones) est donné par `N`, le motif est donnée par `P0`, et la matrice de connectivité (qui est determinée à partir de ce motif) est donnée par `W`. Enfin, l'état initial du réseau est donnée par `S[0]`, et choisi tel qu'il y a un overlap partiel entre cet état initial et le motif que nous souhaitons récupérer. \n",
    "\n",
    "\n",
    "**Astuces :** Ci-dessous, vous trouvez également des exemples comment (1) faire une multiplication de matrice de manière efficace utilisant les fonctionnalités de `numpy`, et (2) comment tirer un nombre aléatoire -1 ou 1 pour une probabilité $p$ pour 1 (et par conséquence probabilité 1-p pour -1).\n",
    "\n",
    "\n",
    "2. Comment est-ce que la dynamique et l'état final changent si vous diminuez (augmentez) $\\beta$ ? \n",
    "\n",
    "\n",
    "3. Quel est l'état final du réseau si vous commencez avec un overlap initial plus petit (par ex. limité au 100 premiers neurones) ? Si vous commencez avec un état complètement aléatoire ?"
   ]
  },
  {
   "cell_type": "code",
   "execution_count": 1,
   "metadata": {},
   "outputs": [],
   "source": [
    "# imports \n",
    "import numpy as np\n",
    "import matplotlib.pyplot as plt\n",
    "%matplotlib inline"
   ]
  },
  {
   "cell_type": "code",
   "execution_count": 2,
   "metadata": {},
   "outputs": [
    {
     "name": "stdout",
     "output_type": "stream",
     "text": [
      "the shape of the image data is  (64, 64)\n"
     ]
    },
    {
     "data": {
      "text/plain": [
       "<matplotlib.image.AxesImage at 0x117dd5860>"
      ]
     },
     "execution_count": 2,
     "metadata": {},
     "output_type": "execute_result"
    },
    {
     "data": {
      "image/png": "[encoded data removed]",
      "text/plain": [
       "<Figure size 432x288 with 1 Axes>"
      ]
     },
     "metadata": {
      "needs_background": "light"
     },
     "output_type": "display_data"
    }
   ],
   "source": [
    "# import an image that we will use as first motif\n",
    "img = np.loadtxt('smiley.dat')\n",
    "print('the shape of the image data is ', img.shape)\n",
    "plt.imshow(img, cmap='Greys_r')"
   ]
  },
  {
   "cell_type": "code",
   "execution_count": 3,
   "metadata": {},
   "outputs": [],
   "source": [
    "# create our Hopfield net\n",
    "# -----------------------\n",
    "\n",
    "# convert the 2D pixel matrix to a 1D pattern vector\n",
    "nx, ny = img.shape\n",
    "P0 = img.flatten()\n",
    "\n",
    "# the network size is given by the length of the pattern\n",
    "N = len(P0)\n",
    "\n",
    "# for a single pattern, the weight matrix is given by\n",
    "W = P0[:,None] * P0[None,:] / N\n",
    "\n",
    "# enforce empty diagonal (no self-connections)\n",
    "W[np.arange(N),np.arange(N)] = 0"
   ]
  },
  {
   "cell_type": "code",
   "execution_count": 4,
   "metadata": {},
   "outputs": [],
   "source": [
    "# define some useful functions you can use below\n",
    "# ----------------------------------------------\n",
    "\n",
    "# gain function\n",
    "def g(h, beta=1.):\n",
    "    \"\"\"Gain function: probability of a neuron to be \n",
    "    in the active state given the input h, for a \n",
    "    given value of beta (default value 1).\"\"\"\n",
    "    return 1/(1+np.exp(-beta*h))\n",
    "\n",
    "\n",
    "# overlap between a given pattern and a state\n",
    "def overlap(state, pattern):\n",
    "    return sum(state*pattern)/N\n",
    "\n",
    "\n",
    "# a plot function to easily plot the \n",
    "# network state as an image\n",
    "def plot_state(state):\n",
    "    plt.imshow(state.reshape((nx,ny)), cmap='Greys_r')\n",
    "    plt.pause(1)"
   ]
  },
  {
   "cell_type": "code",
   "execution_count": 5,
   "metadata": {},
   "outputs": [
    {
     "data": {
      "image/png": "[encoded data removed]",
      "text/plain": [
       "<Figure size 432x288 with 1 Axes>"
      ]
     },
     "metadata": {
      "needs_background": "light"
     },
     "output_type": "display_data"
    }
   ],
   "source": [
    "# afficher le motif nous avons encodé \n",
    "# dans la matrice de connectivité\n",
    "plot_state(P0)"
   ]
  },
  {
   "cell_type": "code",
   "execution_count": 7,
   "metadata": {},
   "outputs": [
    {
     "data": {
      "image/png": "[encoded data removed]",
      "text/plain": [
       "<Figure size 432x288 with 1 Axes>"
      ]
     },
     "metadata": {
      "needs_background": "light"
     },
     "output_type": "display_data"
    },
    {
     "name": "stdout",
     "output_type": "stream",
     "text": [
      "0.0966796875\n"
     ]
    }
   ],
   "source": [
    "# start from noisy pattern and iterate \n",
    "# over time\n",
    "\n",
    "# number of time steps\n",
    "nt = 5\n",
    "\n",
    "# create state array for all times\n",
    "S = np.ones((nt,N))\n",
    "\n",
    "# noisy initial state\n",
    "# NOTE: values must be either -1 or 1\n",
    "S[0] = 2*np.round(np.random.uniform(size=N)) - 1\n",
    "\n",
    "# add partial overlap to the initial state\n",
    "S[0,:400] = P0[:400]\n",
    "\n",
    "plot_state(S[0])\n",
    "print(overlap(S[0],P0))"
   ]
  },
  {
   "cell_type": "code",
   "execution_count": 8,
   "metadata": {},
   "outputs": [
    {
     "name": "stdout",
     "output_type": "stream",
     "text": [
      "[5. 8.]\n",
      "[5 8]\n"
     ]
    }
   ],
   "source": [
    "# Astuce 1 : produit d'une matrice avec un vecteur\n",
    "\n",
    "# une matrice\n",
    "A = np.array([[1,2],\n",
    "              [2,3]])\n",
    "\n",
    "# un vecteur\n",
    "b = np.array([1,2])\n",
    "\n",
    "# le produit y = A.b\n",
    "\n",
    "# 1) avec des boucles for\n",
    "y = np.zeros(2)\n",
    "for i in range(2):\n",
    "    for j in range(2):\n",
    "        y[i] += A[i,j]*b[j]\n",
    "print(y)\n",
    "\n",
    "# 2) avec numpy\n",
    "y = A.dot(b)\n",
    "print(y)"
   ]
  },
  {
   "cell_type": "code",
   "execution_count": 9,
   "metadata": {},
   "outputs": [
    {
     "name": "stdout",
     "output_type": "stream",
     "text": [
      "une seule valeur :\n",
      "False -1\n",
      "un array de plusieurs valeurs à la fois :\n",
      "[ True False False False  True False  True  True False False] [ 1 -1 -1 -1  1 -1  1  1 -1 -1]\n"
     ]
    }
   ],
   "source": [
    "# Astuce 2 : nombre aléatoire -1 ou 1 en fonction de \n",
    "# la probabilité p pour 1. pour cela, il faut\n",
    "\n",
    "p = 0.5 # exemple\n",
    "\n",
    "# (1) comparer une nombre aléatoire entre [0,1) à p\n",
    "is_up = np.random.rand() < p\n",
    "\n",
    "# (2) transformer le résultat (True ou False) en 1 ou -1s = 2*int(is_up) - 1\n",
    "s = 2*is_up - 1\n",
    "\n",
    "print('une seule valeur :')\n",
    "print(is_up, s)\n",
    "\n",
    "# cela marche aussi pour beaucoup de valeurs en parallèle\n",
    "is_up = np.random.rand(10) < p \n",
    "\n",
    "s = 2*is_up - 1\n",
    "print('un array de plusieurs valeurs à la fois :')\n",
    "print(is_up, s)\n"
   ]
  },
  {
   "cell_type": "code",
   "execution_count": 10,
   "metadata": {},
   "outputs": [],
   "source": [
    "# la dynamique du réseau\n",
    "# ======================\n",
    "\n",
    "# Votre code...."
   ]
  },
  {
   "cell_type": "markdown",
   "metadata": {},
   "source": [
    "### Exercise 3 : La capacité du réseau \n",
    "\n",
    "Sous la condition que les différents motifs à retenir ne sont pas corrélés, la capacité d'un réseau de taille $N$ est donné par $c_{\\rm crit} = 0.138$. \n",
    "\n",
    "1. Jusqu'à combien de motifs $K$ peut-on stocker dans le réseau que vous avez simulé ci-dessus ? \n",
    "\n",
    "\n",
    "Du point de vue d'un motif donné, l'effet des autres $K-1$ motifs sur les connectivités synaptiques revient à un bruit supplémentaire correspondant à la somme de $K-1$ nombres aléatoires d'une valeur $-1/N$ ou $1/N$ à probabilité égale.  \n",
    "\n",
    "2. Quel est la moyenne et l'écart-type pour une somme de $M$ valeurs aléatoires $x_k \\in \\{-a,a\\}$ (où $-a$ et $a$ ont la probabilité 0.5 chacune) ? Pour $M\\gg1$, quelle distribution suivent les $X=\\sum_{k=1\\ldots M}x_k$ ?\n",
    "\n",
    "\n",
    "3. Montrez qu'en ajoutant des valeurs aléatoires qui correspondent à $K-1$ d'autres motifs à la matrice de connectivité, où $K<K_{\\rm max}$, le motif initial peut toujours être récupéré. \n",
    "\n",
    "\n",
    "4. Qu'est-ce qui se passe si vous rajoutez un bruit qui correspond à un nombre de motifs au-dela de la capacité de stockage ?"
   ]
  },
  {
   "cell_type": "code",
   "execution_count": null,
   "metadata": {},
   "outputs": [],
   "source": [
    "# Your code"
   ]
  },
  {
   "cell_type": "code",
   "execution_count": null,
   "metadata": {},
   "outputs": [],
   "source": []
  }
 ],
 "metadata": {
  "kernelspec": {
   "display_name": "Python 3",
   "language": "python",
   "name": "python3"
  },
  "language_info": {
   "codemirror_mode": {
    "name": "ipython",
    "version": 3
   },
   "file_extension": ".py",
   "mimetype": "text/x-python",
   "name": "python",
   "nbconvert_exporter": "python",
   "pygments_lexer": "ipython3",
   "version": "3.7.3"
  }
 },
 "nbformat": 4,
 "nbformat_minor": 2
}
