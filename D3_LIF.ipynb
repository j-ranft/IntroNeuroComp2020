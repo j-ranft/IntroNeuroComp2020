{
 "cells": [
  {
   "cell_type": "markdown",
   "metadata": {},
   "source": [
    "# Devoir 3 : Le modèle Leaky-Integrate-and-Fire, statistique de trains de spike"
   ]
  },
  {
   "cell_type": "markdown",
   "metadata": {},
   "source": [
    "Dans ces exercises, on va enfin faire une vraie \"simulation\" d'activité neuronale avec le modèle de neurone vraisemblablement ***le plus simple et le plus puissant*** à la fois. \n",
    "\n",
    "***Simple*** car décrit par une équation assez simple qu'on peut facilement intégrer numériquement, et même résoudre analytiquement comme nous l'avons vu pour des courants simples. Simple aussi parce que dans ce modèle, un spike n'est finalement rien d'autre que le franchissement d'un seuil : simple sur le plan conceptuel. \n",
    "\n",
    "***Puissant*** enfin, car il se prète du coup parfaitement à l'étude mathématique même dans des situations plus complèxes (par ex. quand on considère des neurones qui reçoivent des courants fluctuants, plus réaliste pour les neurones dans le cortex), et parce qu'on peut très bien combiner beaucoup de tels neurones pour simuler des réseaux.\n",
    "\n",
    "Essentiellement, le devoir reprend les points que nous n'avons pas pu finir dans le cours ; j'espère qu'avec plus de temps, d'une semaine à l'autre, il vous permettra d'assimiler d'avantage les concepts abordés jusqu'ici : intégration numérique d'équations différentielles, la modélisation d'activité neuronale par une description simplifiée (tenant compte uniquement des aspects les plus saillants), et enfin la statistique de trains de spikes. "
   ]
  },
  {
   "cell_type": "markdown",
   "metadata": {},
   "source": [
    "## 1. Intégration numérique du modèle Integrate-and-Fire avec décharge\n",
    "\n",
    "La semaine précédente, nous avons utilisé la méthode d'Euler pour résoudre des équations différentielles. Nous pouvons utiliser cette même technique pour résoudre la dynamique sous-seuil d'un neurone LIF (Leaky Integrate-and-Fire), en rajoutant un mécanisme de détection de spike et de reset.\n",
    "\n",
    "Pour rappel, la dynamique ***sous-seuil*** (!) d'un neurone LIF est donnée par l'équation\n",
    "\n",
    "$$\\frac{dV}{dt} = \\frac{1}{\\tau}(E_L - V + RI)$$\n",
    "\n",
    "Chaque fois que le potentiel $V$ franchit un seuil $V_{\\rm seuil}$ par le bas, le modèle stipule qu'un PA est émis, et par la suite le potentiel est remis à sa valeur de \"reset\", $V\\to V_{\\rm reset}$.\n",
    "\n",
    "Comme dans le TD3, nous considérons ici pour simplicité que $E_L=0$ mV, ainsi que les paramètres suivants : $\\tau=20$ ms et $R=1$ MOhm pour la dynamique sous-seuil, et $V_{\\rm seuil}=20$ mV avec $V_{\\rm reset}=0$ mV pour le mécanisme de décharge. \n",
    "\n",
    "**Indice 1 :** Nous avions vu dans le premier TD comment conditionner l'éxecution d'une partie du code sur l'évaluation d'une expression qui peut être soit vraie, soit fausse : le mot-clé c'est `if my_condition:` et puis le code conditionné dans un nouveau bloc. Ici, `my_condition` peut être une expression, voir l'exemple ci-dessous.\n",
    "\n",
    "**Indice 2 :** Créez une liste `spiketimes = []` à laquelle vous rajoutez le temps pour lequel vous enregistrez un franchissement du seuil. \n"
   ]
  },
  {
   "cell_type": "code",
   "execution_count": 6,
   "metadata": {},
   "outputs": [
    {
     "name": "stdout",
     "output_type": "stream",
     "text": [
      "a is above the threshold\n"
     ]
    }
   ],
   "source": [
    "import numpy as np\n",
    "import matplotlib.pyplot as plt\n",
    "%matplotlib inline\n",
    "\n",
    "# Example of if-block:\n",
    "\n",
    "a = 3.\n",
    "threshold = 2.\n",
    "\n",
    "if a > threshold:\n",
    "    print('a is above the threshold')\n",
    "    # here could be more code, as \n",
    "    # long as it is intended relative\n",
    "    # to the if\n",
    "else:\n",
    "    print('a is below the threshold')"
   ]
  },
  {
   "cell_type": "code",
   "execution_count": 3,
   "metadata": {},
   "outputs": [],
   "source": [
    "# SIMULATION OF A LIF NEURON\n",
    "# --------------------------\n",
    "\n",
    "# Discretization of time\n",
    "\n",
    "# (your code)\n",
    "\n",
    "# Definition of the dynamics\n",
    "# (function returning dV/dt)\n",
    "\n",
    "# (your code)\n",
    "\n",
    "# Iterative integration of \n",
    "# the subthreshold dynamics,\n",
    "# COMBINED WITH threshold\n",
    "# crossing detection!\n",
    "\n",
    "# (your code)"
   ]
  },
  {
   "cell_type": "markdown",
   "metadata": {},
   "source": [
    "Plottez le potentiel de membrane du neurone LIF sur 500 ms, et choisissez un courant pour lequel le neurone décharge à environ 20 Hz (entre 10 Hz et 30 Hz disons). Combien de PA/spikes est-ce que vous avez enregistrés sur la durée de votre simulation ? Quel est le taux de décharge que vous en déduisez ? "
   ]
  },
  {
   "cell_type": "code",
   "execution_count": 4,
   "metadata": {},
   "outputs": [],
   "source": [
    "# your code"
   ]
  },
  {
   "cell_type": "markdown",
   "metadata": {},
   "source": [
    "Comparez avec le taux de décharge prédit analytiquement."
   ]
  },
  {
   "cell_type": "code",
   "execution_count": 5,
   "metadata": {},
   "outputs": [],
   "source": [
    "# your code"
   ]
  },
  {
   "cell_type": "markdown",
   "metadata": {},
   "source": [
    "## 2. LIF avec courant non-constant\n",
    "\n",
    "Jusqu'ici, votre première simulation d'un LIF ne va pas au-délà ce qu'on peut calculer analytiquement : le temps entre deux spike consécutifs est toujours le même, l'activité est parfaitement régulière et devrait suivre exactement ce que la théorie prédit. C'est parce que nous avons choisi un courant qui est constant dans le temps, $I=const.$\n",
    "\n",
    "Dans des simulations de réseau, ou pour des neurones plus réalistes, ce n'est pas le cas, le courant peut lui-même dépendre du temps. On va étudier ici le cas d'un neurone LIF qui est poussé à la décharge par un courant qui est modulé par un sinus, \n",
    "\n",
    "$$ I(t) = I_0 + \\Delta I sin(2\\pi f_{\\rm mod} t)$$\n",
    "\n",
    "Pour ce courant, choisissons $I_0=4.5$ nA (c'est-à-dire juste `4.5` dans les unités de notre modèle, 4.5 nA * 5 MOhm = 22.5 mV), ce qui est un courant moyen au-dessus du seuil, et $\\Delta I=1$ nA. \n",
    "\n",
    "Pour la fréquence de modulation $f_{\\rm mod}$, considerez les trois cas $f_{\\rm mod}=2$ Hz, $f_{\\rm mod}=20$ Hz, et $f_{\\rm mod}=200$ Hz. Attention : 1 Hz = 1/s. Pour calculer le produit $f_{\\rm mod} t$, il faut d'abord exprimer la fréquence en kHz, c'est-à-dire la diviser par 1000. (Autrement dit, quand nous calculons le produit de deux quantités avec unités, il faut tenir compte de celles-ci :\n",
    "$ x\\,{\\rm Hz} \\times y \\, {\\rm msec} =  x\\,{\\rm sec}^{-1} \\times y \\, {\\rm msec} = xy\\,{\\rm sec}^{-1}\\,10^{-3}{\\rm sec} = 10^{-3} xy$)\n",
    "\n",
    "**Indice 1 :** La dynamique sous-seuil est toujours donnée par l'équation \n",
    "\n",
    "$$\\frac{dV}{dt} = \\frac{1}{\\tau}[E_L - V + RI(t)],$$\n",
    "\n",
    "sauf que $I$ dépend désormais explicitement du temps !\n",
    "\n",
    "Calculez $V(t)$ sur une durée de 500 ms et enregistrez les spikes pour les trois différentes valeurs de $\\omega$. Plottez $V(t)$ et calculez les taux de décharge respectifs (nombre de spikes/temps). Qu'est-ce que vous observez ?"
   ]
  },
  {
   "cell_type": "code",
   "execution_count": 39,
   "metadata": {},
   "outputs": [],
   "source": [
    "# (your code)"
   ]
  }
 ],
 "metadata": {
  "kernelspec": {
   "display_name": "Python 3",
   "language": "python",
   "name": "python3"
  },
  "language_info": {
   "codemirror_mode": {
    "name": "ipython",
    "version": 3
   },
   "file_extension": ".py",
   "mimetype": "text/x-python",
   "name": "python",
   "nbconvert_exporter": "python",
   "pygments_lexer": "ipython3",
   "version": "3.7.3"
  }
 },
 "nbformat": 4,
 "nbformat_minor": 2
}
