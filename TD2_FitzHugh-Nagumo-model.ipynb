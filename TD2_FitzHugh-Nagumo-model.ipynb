{
 "cells": [
  {
   "cell_type": "markdown",
   "metadata": {},
   "source": [
    "# TD2: Le Neurone I\n",
    "---"
   ]
  },
  {
   "cell_type": "markdown",
   "metadata": {
    "cell_id": "00001-188d9c85-926a-4bf5-be58-134c74f65684"
   },
   "source": [
    "## Préparation : introduction à l'intégration numérique d'équations différentielles\n",
    "\n",
    "L'évolution temporelle ou la dynamique d'un système physique (planètes, potentiel de membrane) est souvent décrit par des équations différentielles, c'est-à-dire une équation du type\n",
    "\n",
    "$$ \\frac{dx}{dt} = f(x, t) $$\n",
    "\n",
    "Quand ces équations sont simples (quand $f$ est une fonction simple de ses arguments), nous pouvons résoudre ces équations analytiquement. Par exemple, prenons $f(x,t) = x/\\tau$, avec un paramètre $\\tau$. Du coup, $ \\frac{dx}{dt} = -x/\\tau$. La solution de cette equation différentielle, avec la condition initiale $x(t=0)=x_0$, est donnée par $ x(t) = x_0 e^{-t/\\tau}$.\n",
    "\n",
    "Cependant, il peut s'avérer utile de pouvoir résoudre de telles équations de manière numérique, soit pour vérifier un résultat obtenu analytiquement, soit parce qu'on n'a pas pu déterminer la solution autrement (peut-être une solution analytique n'existe même pas).  \n",
    "\n",
    "\n",
    "#### La méthode d'Euler\n",
    "\n",
    "Une méthode très simple et très \"directe\" pour résoudre numériquement des équations différentielles est la *méthode d'Euler*, qui répose sur la discrétisation dans le temps de la dynamique et de l'approximation de la dérivée temporelle par une différence discrète entre deux points consécutifs dans le temps :\n",
    "\n",
    "\n",
    "$$\\frac{dx}{dt}\\approx\\frac{\\Delta x}{\\Delta t} \\ \\ \\Rightarrow \\ \\ \\Delta x \\approx \\Delta t \\frac{dx}{dt}=\\Delta t f(x,t)$$\n",
    "\n",
    "Ce qui implique, pour $x(t+\\Delta t) = x(t) + \\Delta x$ :\n",
    "\n",
    "$$ x(t+\\Delta t) = x(t) + \\Delta t f(x,t)$$\n"
   ]
  },
  {
   "cell_type": "code",
   "execution_count": 1,
   "metadata": {
    "cell_id": "00002-05ac4354-1dcc-4d5f-908e-a89fed95c5fb",
    "output_cleared": false
   },
   "outputs": [],
   "source": [
    "# Let us first plot the analytical solution,\n",
    "# and then try to find the numerical solution\n",
    "# for the same dynamics\n",
    "\n",
    "# We start with our usual imports\n",
    "import numpy as np\n",
    "import matplotlib.pyplot as plt\n",
    "%matplotlib inline"
   ]
  },
  {
   "cell_type": "code",
   "execution_count": 2,
   "metadata": {
    "cell_id": "00003-c13f9f41-1518-4c0b-9a59-3bfa67eedb64",
    "output_cleared": false
   },
   "outputs": [
    {
     "data": {
      "text/plain": [
       "<matplotlib.legend.Legend at 0x11a9fc908>"
      ]
     },
     "execution_count": 2,
     "metadata": {},
     "output_type": "execute_result"
    },
    {
     "data": {
      "image/png": "[encoded data removed]",
      "text/plain": [
       "<Figure size 432x288 with 1 Axes>"
      ]
     },
     "metadata": {
      "needs_background": "light"
     },
     "output_type": "display_data"
    }
   ],
   "source": [
    "# Example: exponential decay dynamics\n",
    "\n",
    "# define parameters\n",
    "tau = 7.0    # decay time constant (in ms)\n",
    "x0 = 10.0    # initial value\n",
    "\n",
    "# an array of times\n",
    "t = np.arange(0, 100)\n",
    "\n",
    "# This is the right-hand side of the differential equation\n",
    "# (the time-derivative of v(t); it depends only on the \n",
    "# voltage and not on the time t)\n",
    "def f(x, t):\n",
    "    return -x/tau\n",
    "\n",
    "# For this simple case, we already know\n",
    "# the solution of the ODE:\n",
    "def x_analytical(t):\n",
    "    return x0*np.exp(-t/tau)\n",
    "\n",
    "fig, ax = plt.subplots()\n",
    "ax.plot(t, x_analytical(t), label='Analytical solution')\n",
    "ax.set_xlabel('time (ms)')\n",
    "ax.set_ylabel('x')\n",
    "ax.legend()"
   ]
  },
  {
   "cell_type": "markdown",
   "metadata": {
    "cell_id": "00004-5896ed25-7f5a-4bad-b51b-4c09de4942d2"
   },
   "source": [
    "**Question :** Est-ce que nous pouvons calculer $x(t)$ en utilisant $f(x,t)$ seulement, c'est-à-dire sans utiliser la solution connue ?"
   ]
  },
  {
   "cell_type": "code",
   "execution_count": 5,
   "metadata": {
    "cell_id": "00007-0299682f-31cd-41aa-8534-ba87d8d218e4",
    "output_cleared": false,
    "tags": []
   },
   "outputs": [
    {
     "name": "stdout",
     "output_type": "stream",
     "text": [
      "[10.  0.  0.  0.  0.  0.  0.  0.  0.  0.]\n"
     ]
    }
   ],
   "source": [
    "# Q: Can you translate the Euler formula into an algorithm?\n",
    "# A: Yes, the Euler formula prescribes an iterative method, \n",
    "#    where we have to compute the solution from one timestep\n",
    "#    to the next!\n",
    "\n",
    "# We should define a time step and an integration time:\n",
    "dt = 1.0\n",
    "T = 100.\n",
    "nt = int(T/dt)\n",
    "t_euler = dt*np.arange(nt)\n",
    "\n",
    "# An empty array to be filled with the computed values\n",
    "# of the voltage:\n",
    "x_euler = np.zeros(nt)\n",
    "\n",
    "# Implement the initial condition\n",
    "x_euler[0] = x0\n",
    "\n",
    "# Our array with the solution BEFORE computing the values\n",
    "print(x_euler[:10])"
   ]
  },
  {
   "cell_type": "code",
   "execution_count": 6,
   "metadata": {
    "cell_id": "00007-0299682f-31cd-41aa-8534-ba87d8d218e4",
    "output_cleared": false,
    "tags": []
   },
   "outputs": [
    {
     "name": "stdout",
     "output_type": "stream",
     "text": [
      "[-70.   0.   0.   0.   0.   0.   0.   0.   0.   0.]\n",
      "[-70.         -67.14285714 -64.69387755 -62.59475219 -60.79550187\n",
      " -59.25328732 -57.93138913 -56.79833354 -55.82714304 -54.99469403]\n"
     ]
    }
   ],
   "source": [
    "# use Euler formula iteratively:\n",
    "\n",
    "# ... your code ...\n",
    "\n",
    "# Our array with the solution AFTER computing the values\n",
    "print(x_euler[:10])"
   ]
  },
  {
   "cell_type": "code",
   "execution_count": 6,
   "metadata": {
    "cell_id": "00007-af5e956e-0b7c-4e00-8e26-def5b1b3c0b5",
    "output_cleared": false,
    "scrolled": false
   },
   "outputs": [
    {
     "data": {
      "text/plain": [
       "<matplotlib.legend.Legend at 0x11ac483c8>"
      ]
     },
     "execution_count": 6,
     "metadata": {},
     "output_type": "execute_result"
    },
    {
     "data": {
      "image/png": "[encoded data removed]",
      "text/plain": [
       "<Figure size 432x288 with 1 Axes>"
      ]
     },
     "metadata": {
      "needs_background": "light"
     },
     "output_type": "display_data"
    }
   ],
   "source": [
    "# Plot here the theoretical result \n",
    "# together with your numerical solution.\n",
    "\n",
    "fig, ax = plt.subplots()\n",
    "ax.plot(t_euler, x_analytical(t_euler), label='Analytical solution')\n",
    "ax.plot(t_euler, x_euler, label='Euler')\n",
    "ax.set_xlabel('time (ms)')\n",
    "ax.set_ylabel('x')\n",
    "ax.legend()"
   ]
  },
  {
   "cell_type": "markdown",
   "metadata": {
    "cell_id": "00008-33ce5040-6db1-4634-a707-7be467850f6c"
   },
   "source": [
    "Pour `dt = 1.0` ms, le résultat n'est pas vraiment identique au résultat analytique (la vraie solution) ! Pourquoi ? \n",
    "\n",
    "Quand nous utilisons la méthode d'Euler, **le résultat dépend de manière cuciale du pas de temps** utilisé ! \n",
    "\n",
    "*Question :* Comment est-ce qu'on peut savoir que le résultat est correct ? \n",
    "\n",
    "*Reponse :* Répeter le calcul avec un pas de temps diminué (par ex. divisé par deux) et vérifier si le résultat converge !"
   ]
  },
  {
   "cell_type": "code",
   "execution_count": 7,
   "metadata": {
    "cell_id": "00009-81b22abb-73ec-4fdd-abd7-ef0da3159506",
    "scrolled": true
   },
   "outputs": [],
   "source": [
    "# Repeat the above for different time steps and compare.\n"
   ]
  },
  {
   "cell_type": "markdown",
   "metadata": {},
   "source": [
    "For small enough time steps, the result should not depend on the value of the time step anymore! "
   ]
  },
  {
   "cell_type": "markdown",
   "metadata": {
    "cell_id": "00010-7990b3a6-70da-4a6d-8ed7-49721aa3136f"
   },
   "source": [
    "#### Utiliser une fonction pour résoudre des équations différentiells fournie par `scipy` \n",
    "\n",
    "L'avantage premier et indéniable de la méthode d'Euler est sa simplicité absolue. Dans beaucoup de circonstances, on peut néanmoins utiliser des algorithmes plus puissants, dans le sens d'une meilleure convergence au résultat correct en terme de pas de temps utilisé, robustesse etc. Au lieu d'implémenter nous-mêmes ces autres algorithmes, la solution la plus simple est souvent d'utiliser les fonctionnalités fournies par des bibliothèques de calcul scientifique. Notamment, un tel \"ODE solver\" fait partie du module `scipy` : la fonction  `scipy.integrate.odeint` \n"
   ]
  },
  {
   "cell_type": "code",
   "execution_count": 18,
   "metadata": {
    "cell_id": "00011-dfd292d9-4cb5-4956-8fd8-b39248b2f083"
   },
   "outputs": [],
   "source": [
    "# We can use a numerical solver that is already \n",
    "# programmed for us!\n",
    "from scipy.integrate import odeint"
   ]
  },
  {
   "cell_type": "code",
   "execution_count": null,
   "metadata": {
    "cell_id": "00012-c5cf9dd7-6e2c-408d-8959-300c6ea9f973"
   },
   "outputs": [],
   "source": [
    "# check out the documentation\n",
    "odeint?"
   ]
  },
  {
   "cell_type": "code",
   "execution_count": 19,
   "metadata": {
    "cell_id": "00013-c55f5c45-c6f5-43f4-8592-44737c51f2a0"
   },
   "outputs": [],
   "source": [
    "# Based on the documentation, can you use odeint to obtain \n",
    "# another numerical solution for x(t)? \n"
   ]
  },
  {
   "cell_type": "code",
   "execution_count": 8,
   "metadata": {
    "cell_id": "00014-7de66ef5-cb0c-491a-9a5f-be25b2fbbd6f",
    "scrolled": true
   },
   "outputs": [
    {
     "ename": "NameError",
     "evalue": "name 't_odeint' is not defined",
     "output_type": "error",
     "traceback": [
      "\u001b[1;31m---------------------------------------------------------------------------\u001b[0m",
      "\u001b[1;31mNameError\u001b[0m                                 Traceback (most recent call last)",
      "\u001b[1;32m<ipython-input-8-be3966611cf0>\u001b[0m in \u001b[0;36m<module>\u001b[1;34m\u001b[0m\n\u001b[0;32m      2\u001b[0m \u001b[1;31m# numerical solutions here.\u001b[0m\u001b[1;33m\u001b[0m\u001b[1;33m\u001b[0m\u001b[1;33m\u001b[0m\u001b[0m\n\u001b[0;32m      3\u001b[0m \u001b[0mfig\u001b[0m\u001b[1;33m,\u001b[0m \u001b[0max\u001b[0m \u001b[1;33m=\u001b[0m \u001b[0mplt\u001b[0m\u001b[1;33m.\u001b[0m\u001b[0msubplots\u001b[0m\u001b[1;33m(\u001b[0m\u001b[1;33m)\u001b[0m\u001b[1;33m\u001b[0m\u001b[1;33m\u001b[0m\u001b[0m\n\u001b[1;32m----> 4\u001b[1;33m \u001b[0max\u001b[0m\u001b[1;33m.\u001b[0m\u001b[0mplot\u001b[0m\u001b[1;33m(\u001b[0m\u001b[0mt_odeint\u001b[0m\u001b[1;33m,\u001b[0m \u001b[0mx_analytical\u001b[0m\u001b[1;33m(\u001b[0m\u001b[0mt_odeint\u001b[0m\u001b[1;33m)\u001b[0m\u001b[1;33m,\u001b[0m \u001b[0mlabel\u001b[0m\u001b[1;33m=\u001b[0m\u001b[1;34m'Analytical solution'\u001b[0m\u001b[1;33m)\u001b[0m\u001b[1;33m\u001b[0m\u001b[1;33m\u001b[0m\u001b[0m\n\u001b[0m\u001b[0;32m      5\u001b[0m \u001b[0max\u001b[0m\u001b[1;33m.\u001b[0m\u001b[0mplot\u001b[0m\u001b[1;33m(\u001b[0m\u001b[0mt_odeint\u001b[0m\u001b[1;33m,\u001b[0m \u001b[0mx_odeint\u001b[0m\u001b[1;33m,\u001b[0m \u001b[0mlabel\u001b[0m\u001b[1;33m=\u001b[0m\u001b[1;34m'Solution with odeint'\u001b[0m\u001b[1;33m)\u001b[0m\u001b[1;33m\u001b[0m\u001b[1;33m\u001b[0m\u001b[0m\n\u001b[0;32m      6\u001b[0m \u001b[0max\u001b[0m\u001b[1;33m.\u001b[0m\u001b[0mset_xlabel\u001b[0m\u001b[1;33m(\u001b[0m\u001b[1;34m'time (ms)'\u001b[0m\u001b[1;33m)\u001b[0m\u001b[1;33m\u001b[0m\u001b[1;33m\u001b[0m\u001b[0m\n",
      "\u001b[1;31mNameError\u001b[0m: name 't_odeint' is not defined"
     ]
    },
    {
     "data": {
      "image/png": "[encoded data removed]",
      "text/plain": [
       "<Figure size 432x288 with 1 Axes>"
      ]
     },
     "metadata": {
      "needs_background": "light"
     },
     "output_type": "display_data"
    }
   ],
   "source": [
    "# Plot a comparison of the theoretical and the two\n",
    "# numerical solutions here.\n",
    "fig, ax = plt.subplots()\n",
    "ax.plot(t_odeint, x_analytical(t_odeint), label='Analytical solution')\n",
    "ax.plot(t_odeint, x_odeint, label='Solution with odeint')\n",
    "ax.set_xlabel('time (ms)')\n",
    "ax.set_ylabel('x')\n",
    "ax.legend()"
   ]
  },
  {
   "cell_type": "markdown",
   "metadata": {
    "cell_id": "00015-1e986127-e17d-4e83-ad84-79e0e564ca94"
   },
   "source": [
    "**ATTENTION :** `scipy.integrate.odeint` nécessite toujours que la fonction qui donne la dérivée prend le temps en deuxième argument (même si $f(x,t)=f(x)$ ne dépend pas explicitement du temps)."
   ]
  },
  {
   "cell_type": "markdown",
   "metadata": {},
   "source": [
    "\n",
    "# Le modèle de FitzHugh-Nagumo\n",
    "\n",
    "Le modèle de Hodgkin-Huxley décrit la dynamique du potentiel de membrane d'un neurone avec quatre variables couplées, $V$, $n$, $m$ et $h$. L'espace de phase a donc 4 dimensions et la dynamique complète ne peut pas être répresentée dans un plan. Par ailleurs, la dynamique du modèle ne peut être résolue analytiquement puisque trop compliquée. \n",
    "\n",
    "Pour mieux étudier les régimes dynamiques sous-jacent de la décharge neuronale, Richard FitzHugh a proposé un modèle simplifié à deux variables qui réproduit plusieurs phénomènes observés dans le modèle complet de Hodgkin-Huxley. \n",
    "\n",
    "Les équations du modèle sont données par\n",
    "\n",
    "$$ \\frac{dV}{dt} = V - V^3/3 - W + I ,$$\n",
    "$$ \\frac{dW}{dt} = 0.08(V+0.7−0.8W), $$\n",
    "\n",
    "où:\n",
    "\n",
    "1. La variable $V$, avec une nonlinéarité permettant l'excitation, est censé d'écrire le potentiel de membrane. \n",
    "\n",
    "2. La variable $W$, avec une dynamique plus lente linéaire, décrit la rélaxation. \n",
    "\n",
    "3. Une constante $I$ répresente le courant injecté.\n",
    "\n"
   ]
  },
  {
   "cell_type": "markdown",
   "metadata": {},
   "source": [
    "## E1 Solution numérique du modèle FitzHugh-Nagumo\n",
    "\n",
    "Essayez de résoudre numériquement l'évolution temporelle de $V$ et de $W$ pour un courant $I$ donné. Utilisez à cette fin une discretisation dans le temps avec des pas de temps `dt` la méthode d'Euler pour déterminer les valeurs de $V$ et $W$ à des instants consécutifs en fonction de leurs valeurs précédentes. \n",
    "\n",
    "**Astuce :** Pour calculer `V[i+1]` et `W[i+1]`, où l'index `i`  correspond au temps `i*dt`, définissez les deux fonctions `dVdt(v, w, I)`, `dWdt(v,w)` qui retourneront les dérivés temporelles de $V$ et de $W$ décrivées par les équations ci-dessus. "
   ]
  },
  {
   "cell_type": "code",
   "execution_count": null,
   "metadata": {},
   "outputs": [],
   "source": [
    "# Your code:\n",
    "\n",
    "# 1 - définir les paramètres de discretisation temporelle\n",
    "dt = 0.01\n",
    "T = 10.0\n",
    "t = np.arange(0,T,dt)\n",
    "\n",
    "# 2 - créer les array pour V et pour W à déterminer\n",
    "\n",
    "# 3 - définir les fonctions dVdt(v, w,I), dWdt(v,w)\n",
    "\n",
    "# 4 - choisir une valeur pour le courant injecté\n",
    "# (choose currents between 0 and 1)\n",
    "\n",
    "# 5 - boucle sur les pas de temps consécutifs"
   ]
  },
  {
   "cell_type": "code",
   "execution_count": 1,
   "metadata": {},
   "outputs": [],
   "source": [
    "# Plot the result for the membrane potential (variable V) \n",
    "# for a given value of I (try different values)"
   ]
  },
  {
   "cell_type": "code",
   "execution_count": 9,
   "metadata": {},
   "outputs": [],
   "source": [
    "# Bonus: try a loop over different values of I, and\n",
    "# plot voltage traces together \n"
   ]
  },
  {
   "cell_type": "markdown",
   "metadata": {},
   "source": [
    "## E2 Détermination de la courbe f-I\n",
    "\n",
    "Essayez d'extraire le nombre de PA de la trace du potentiel (de la variable $V$) pour une simulation d'une durée `T=100` pour plusiers valeurs de $I$ dans l'intervalle $I\\in[0,1]$. Tracez le taux de décharge $N_{\\rm PA}/T$ en fonction du courant $I$.\n",
    "\n",
    "**Indice :** Identifiez un seuil de $V$ raisonnable au-dessus lequel un PA peut être considéré comme déclenché, et déterminez le nombre de franchissements de ce seuil par le bas vers le haut."
   ]
  },
  {
   "cell_type": "code",
   "execution_count": null,
   "metadata": {},
   "outputs": [],
   "source": [
    "# Your code"
   ]
  },
  {
   "cell_type": "code",
   "execution_count": 10,
   "metadata": {},
   "outputs": [],
   "source": [
    "threshold = 1.0\n",
    "\n",
    "# boucle sur les différentes valeurs de I ...\n",
    "\n",
    "# quand le potential est au-dessus du seuil, enregistrer\n",
    "# un spike\n",
    "\n"
   ]
  },
  {
   "cell_type": "code",
   "execution_count": null,
   "metadata": {},
   "outputs": [],
   "source": []
  }
 ],
 "metadata": {
  "kernelspec": {
   "display_name": "Python 3",
   "language": "python",
   "name": "python3"
  },
  "language_info": {
   "codemirror_mode": {
    "name": "ipython",
    "version": 3
   },
   "file_extension": ".py",
   "mimetype": "text/x-python",
   "name": "python",
   "nbconvert_exporter": "python",
   "pygments_lexer": "ipython3",
   "version": "3.7.3"
  }
 },
 "nbformat": 4,
 "nbformat_minor": 2
}
